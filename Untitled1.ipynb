{
 "cells": [
  {
   "cell_type": "code",
   "execution_count": null,
   "metadata": {},
   "outputs": [],
   "source": [
    "arr = []\n",
    "a1= int(input())\n",
    "a2= int(input())\n",
    "for i in range(n): \n",
    "   # arr[i] = int(input())\n",
    "     arr.append(int(input()))   \n",
    "for i in range(n): \n",
    "    if(arr[i] >= a1 and arr[i] < a2): \n",
    "        print(arr[i],end=\" \")"
   ]
  },
  {
   "cell_type": "code",
   "execution_count": null,
   "metadata": {},
   "outputs": [],
   "source": [
    "for i in range(n): \n",
    "    if(arr[i] >= a1 and arr[i] < a2): \n",
    "        print(arr[i],end=\" \")"
   ]
  },
  {
   "cell_type": "markdown",
   "metadata": {},
   "source": [
    "# Repeating key"
   ]
  },
  {
   "cell_type": "code",
   "execution_count": null,
   "metadata": {},
   "outputs": [],
   "source": [
    "message = input()"
   ]
  },
  {
   "cell_type": "code",
   "execution_count": null,
   "metadata": {},
   "outputs": [],
   "source": [
    "for i in range(len(message)): \n",
    "    if message[i] in message[i+1:]: \n",
    "        print(message[i])\n",
    "        break"
   ]
  },
  {
   "cell_type": "markdown",
   "metadata": {},
   "source": [
    "# Sum of matching elements"
   ]
  },
  {
   "cell_type": "code",
   "execution_count": null,
   "metadata": {},
   "outputs": [],
   "source": [
    "n = int(input())"
   ]
  },
  {
   "cell_type": "code",
   "execution_count": null,
   "metadata": {},
   "outputs": [],
   "source": [
    "arr = list(map(int , input().split()))"
   ]
  },
  {
   "cell_type": "code",
   "execution_count": null,
   "metadata": {},
   "outputs": [],
   "source": [
    "k = int(input())"
   ]
  },
  {
   "cell_type": "code",
   "execution_count": null,
   "metadata": {},
   "outputs": [],
   "source": [
    "sum = 0\n",
    "for i in range(n): \n",
    "    if(arr[i] == k): \n",
    "        sum+=k"
   ]
  },
  {
   "cell_type": "code",
   "execution_count": null,
   "metadata": {},
   "outputs": [],
   "source": [
    "sum"
   ]
  },
  {
   "cell_type": "markdown",
   "metadata": {},
   "source": [
    "# Energy sum"
   ]
  },
  {
   "cell_type": "code",
   "execution_count": null,
   "metadata": {},
   "outputs": [],
   "source": [
    "total = int(input())"
   ]
  },
  {
   "cell_type": "code",
   "execution_count": null,
   "metadata": {},
   "outputs": [],
   "source": [
    "energy = list(map(int , input().split()))"
   ]
  },
  {
   "cell_type": "code",
   "execution_count": null,
   "metadata": {},
   "outputs": [],
   "source": [
    "sum = 0\n",
    "for i in range(len(energy)): \n",
    "    sum+=energy[i]"
   ]
  },
  {
   "cell_type": "code",
   "execution_count": null,
   "metadata": {},
   "outputs": [],
   "source": [
    "t = range(2,10)\n",
    "t"
   ]
  },
  {
   "cell_type": "code",
   "execution_count": null,
   "metadata": {},
   "outputs": [],
   "source": [
    "10 + (-8)  + 4 + 7 + 9 + (-12) + 8 + (-5)"
   ]
  },
  {
   "cell_type": "markdown",
   "metadata": {},
   "source": [
    "# Q6 .Series"
   ]
  },
  {
   "cell_type": "code",
   "execution_count": null,
   "metadata": {},
   "outputs": [],
   "source": [
    "val1=0\n",
    "val2 =1\n",
    "val3 = 0\n",
    "num = int(input())\n",
    "for i in range(2,num+1): \n",
    "    val3=val1 + val2\n",
    "    val1 = val2\n",
    "    val2=val3"
   ]
  },
  {
   "cell_type": "code",
   "execution_count": null,
   "metadata": {},
   "outputs": [],
   "source": [
    "val3"
   ]
  },
  {
   "cell_type": "markdown",
   "metadata": {},
   "source": [
    "# Sum of even/odd numbers of array"
   ]
  },
  {
   "cell_type": "code",
   "execution_count": null,
   "metadata": {},
   "outputs": [],
   "source": [
    "n = int(input())\n",
    "arr = list(map(int , input().split()))"
   ]
  },
  {
   "cell_type": "code",
   "execution_count": null,
   "metadata": {},
   "outputs": [],
   "source": [
    "def printPattern(n,arr): \n",
    "    i = 0\n",
    "    #sum = 0\n",
    "\n",
    "    while(True):\n",
    "        if (arr[i] % 2 == n % 2): \n",
    "                print(arr[i])\n",
    "\n",
    "        if(arr[i] == n): \n",
    "            break\n",
    "        i+=1"
   ]
  },
  {
   "cell_type": "markdown",
   "metadata": {},
   "source": [
    "i = 0\n",
    "#sum = 0\n",
    " \n",
    "while(True):\n",
    "    if (arr[i] % 2 == n % 2): \n",
    "            print(arr[i])\n",
    "    \n",
    "    if(arr[i] == n): \n",
    "        break\n",
    "    i+=1\n",
    "        \n",
    "    "
   ]
  },
  {
   "cell_type": "code",
   "execution_count": null,
   "metadata": {},
   "outputs": [],
   "source": [
    "printPattern(n,arr)"
   ]
  },
  {
   "cell_type": "markdown",
   "metadata": {},
   "source": [
    "# Triangle in array"
   ]
  },
  {
   "cell_type": "code",
   "execution_count": null,
   "metadata": {},
   "outputs": [],
   "source": [
    "arr = list(map(int , input().split()))"
   ]
  },
  {
   "cell_type": "code",
   "execution_count": null,
   "metadata": {},
   "outputs": [],
   "source": [
    "for i in range(len(arr)-2):\n",
    "    a=arr[i]\n",
    "    for j in range(i+1,len(arr)-1):\n",
    "        b=arr[j]\n",
    "        for k in range(j+1,len(arr)):\n",
    "            c=arr[k]\n",
    "            if (a+b) > c and (b+c) > a and (a+c) > b :\n",
    "                print(a,b,c)"
   ]
  },
  {
   "cell_type": "code",
   "execution_count": null,
   "metadata": {},
   "outputs": [],
   "source": [
    "for i in range(7):\n",
    "    print(i)"
   ]
  },
  {
   "cell_type": "markdown",
   "metadata": {},
   "source": [
    "# Prime Number "
   ]
  },
  {
   "cell_type": "code",
   "execution_count": null,
   "metadata": {},
   "outputs": [],
   "source": [
    "num = int(input())"
   ]
  },
  {
   "cell_type": "code",
   "execution_count": null,
   "metadata": {},
   "outputs": [],
   "source": [
    "def prime(n):\n",
    "    for i in range(2,n): \n",
    "        if(n%i == 0): \n",
    "            return False\n",
    "    return True"
   ]
  },
  {
   "cell_type": "code",
   "execution_count": null,
   "metadata": {},
   "outputs": [],
   "source": [
    "while(num > 1): \n",
    "    if(prime(num)): \n",
    "        print(num)\n",
    "    num-=1"
   ]
  },
  {
   "cell_type": "code",
   "execution_count": null,
   "metadata": {},
   "outputs": [],
   "source": [
    "for i in range(len(arr)-1): \n",
    "    tmp=arr[i]\n",
    "    arr[i]=arr[i+1]\n",
    "    arr[i+1]=tmp"
   ]
  },
  {
   "cell_type": "code",
   "execution_count": null,
   "metadata": {},
   "outputs": [],
   "source": [
    "arr"
   ]
  },
  {
   "cell_type": "markdown",
   "metadata": {},
   "source": [
    "# Alternate array sum"
   ]
  },
  {
   "cell_type": "code",
   "execution_count": null,
   "metadata": {},
   "outputs": [],
   "source": [
    "arr = list(map(int , input().split()))"
   ]
  },
  {
   "cell_type": "code",
   "execution_count": null,
   "metadata": {},
   "outputs": [],
   "source": [
    "sum=0\n",
    "for i in range(0,len(arr),2): \n",
    "        sum = sum + arr[i]"
   ]
  },
  {
   "cell_type": "code",
   "execution_count": null,
   "metadata": {},
   "outputs": [],
   "source": [
    "sum"
   ]
  },
  {
   "cell_type": "markdown",
   "metadata": {},
   "source": [
    "# Misses"
   ]
  },
  {
   "cell_type": "code",
   "execution_count": null,
   "metadata": {},
   "outputs": [],
   "source": [
    "str = input()"
   ]
  },
  {
   "cell_type": "code",
   "execution_count": null,
   "metadata": {},
   "outputs": [],
   "source": [
    "import string\n",
    "i=0\n",
    "misses=0\n",
    "while(i < len(str)): \n",
    "    #print(str[i])\n",
    "    if str[i] not in list(string.ascii_letters) and str[i] not in [\"0\",\"1\",\"2\",\"3\",\"4\",\"5\",\"6\",\"7\",\"8\",\"9\"] and str[i] != \" \": \n",
    "        misses+=1 \n",
    "        print(str[i])\n",
    "    i+=1"
   ]
  },
  {
   "cell_type": "code",
   "execution_count": null,
   "metadata": {},
   "outputs": [],
   "source": [
    "misses"
   ]
  },
  {
   "cell_type": "markdown",
   "metadata": {},
   "source": [
    "# Project"
   ]
  },
  {
   "cell_type": "code",
   "execution_count": null,
   "metadata": {},
   "outputs": [],
   "source": [
    "n = int(input())\n",
    "\n",
    "errors = list(map(int , input().split()))\n",
    "\n",
    "p = int(input())\n",
    "q = int(input())\n",
    "\n",
    "count = 0\n",
    "flag = True\n",
    "while(flag):\n",
    "    flag=False\n",
    "    max_in = errors.index(max(errors))\n",
    "    errors[max_in] = errors[max_in] - p\n",
    "    for i in range(len(errors)) : \n",
    "        if errors[i] > 0 and i != max_in : \n",
    "            errors[i] = errors[i] - q  \n",
    "        if errors[i] > 0: \n",
    "            flag=True\n",
    "    count+=1\n",
    "    print(errors,count)\n",
    "\n",
    "\n",
    "errors.index(max(errors))"
   ]
  },
  {
   "cell_type": "code",
   "execution_count": 22,
   "metadata": {},
   "outputs": [
    {
     "data": {
      "text/plain": [
       "True"
      ]
     },
     "execution_count": 22,
     "metadata": {},
     "output_type": "execute_result"
    }
   ],
   "source": [
    "any([0,0,-5]) > 0"
   ]
  },
  {
   "cell_type": "code",
   "execution_count": 33,
   "metadata": {},
   "outputs": [
    {
     "data": {
      "text/plain": [
       "4"
      ]
     },
     "execution_count": 33,
     "metadata": {},
     "output_type": "execute_result"
    }
   ],
   "source": [
    "count"
   ]
  },
  {
   "cell_type": "markdown",
   "metadata": {},
   "source": [
    "# Encryption"
   ]
  },
  {
   "cell_type": "code",
   "execution_count": 1,
   "metadata": {},
   "outputs": [
    {
     "name": "stdout",
     "output_type": "stream",
     "text": [
      "ajkaka\n",
      "akkaka\n",
      "j\n"
     ]
    }
   ],
   "source": [
    "strsend = input()\n",
    "strrecv = input()\n",
    "\n",
    "i=0 \n",
    "j=0\n",
    "while(i< len(strsend) and j< len(strrecv)): \n",
    "    if strsend[i] != strrecv[j]: \n",
    "        #print(strsend[i])\n",
    "        break\n",
    "    i+=1\n",
    "    j+=1\n",
    "if(i ==  len(strsend) and j == len(strrecv)): \n",
    "    print(\"NA\")\n",
    "else:\n",
    "    print(strsend[i])"
   ]
  },
  {
   "cell_type": "markdown",
   "metadata": {},
   "source": [
    "# Decimal to binary and compare "
   ]
  },
  {
   "cell_type": "code",
   "execution_count": 79,
   "metadata": {},
   "outputs": [
    {
     "name": "stdout",
     "output_type": "stream",
     "text": [
      "88\n",
      "99\n"
     ]
    }
   ],
   "source": [
    "p = int(input())\n",
    "q = int(input())\n",
    "\n",
    "def decimaltoBin(num):\n",
    "    bin = \"\"\n",
    "    if num >= 1 : \n",
    "        bin = decimaltoBin(num // 2)\n",
    "    return bin + str(num % 2)\n",
    "\n",
    "a = decimaltoBin(p)\n",
    "b = decimaltoBin(q)\n",
    "\n",
    "zeroes = abs(len(a)-len(b))\n",
    "\n",
    "if(len(a)>len(b)): \n",
    "    b = zeroes * \"0\" + b\n",
    "else: \n",
    "    a = zeroes * \"0\" + a\n",
    "\n",
    "i=0\n",
    "flip=0\n",
    "while(i < len(a)): \n",
    "    if a[i] != b[i]: \n",
    "        flip+=1\n",
    "    i+=1"
   ]
  },
  {
   "cell_type": "code",
   "execution_count": 80,
   "metadata": {},
   "outputs": [
    {
     "data": {
      "text/plain": [
       "5"
      ]
     },
     "execution_count": 80,
     "metadata": {},
     "output_type": "execute_result"
    }
   ],
   "source": [
    "flip"
   ]
  },
  {
   "cell_type": "code",
   "execution_count": 81,
   "metadata": {},
   "outputs": [
    {
     "data": {
      "text/plain": [
       "('01011000', '01100011')"
      ]
     },
     "execution_count": 81,
     "metadata": {},
     "output_type": "execute_result"
    }
   ],
   "source": [
    "a,b"
   ]
  },
  {
   "cell_type": "markdown",
   "metadata": {},
   "source": [
    "# Stocks"
   ]
  },
  {
   "cell_type": "code",
   "execution_count": 1,
   "metadata": {},
   "outputs": [
    {
     "name": "stdout",
     "output_type": "stream",
     "text": [
      "5\n"
     ]
    }
   ],
   "source": [
    "n = int(input())\n",
    "\n",
    "arr = list(map(int , input().split()))\n",
    "\n",
    "k = int(input())\n",
    "\n",
    "i=0\n",
    "while(i < len(arr)): \n",
    "    for j in range(i,len(arr)-1): \n",
    "        if(arr[j] > arr[j+1]): \n",
    "            tmp=arr[j]\n",
    "            arr[j]=arr[j+1]\n",
    "            arr[j+1]=tmp\n",
    "    i+=1\n",
    "\n",
    "print(arr[k-1])"
   ]
  },
  {
   "cell_type": "code",
   "execution_count": 13,
   "metadata": {},
   "outputs": [
    {
     "data": {
      "text/plain": [
       "[5, 7, 10, 19, 88]"
      ]
     },
     "execution_count": 13,
     "metadata": {},
     "output_type": "execute_result"
    }
   ],
   "source": [
    "arr"
   ]
  },
  {
   "cell_type": "markdown",
   "metadata": {},
   "source": [
    "# Street Lights or Houses"
   ]
  },
  {
   "cell_type": "code",
   "execution_count": 45,
   "metadata": {},
   "outputs": [
    {
     "name": "stdout",
     "output_type": "stream",
     "text": [
      "1 1 1 0 1 1 1 1\n"
     ]
    }
   ],
   "source": [
    "arr = list(map(int , input().split()))"
   ]
  },
  {
   "cell_type": "code",
   "execution_count": 46,
   "metadata": {},
   "outputs": [
    {
     "name": "stdout",
     "output_type": "stream",
     "text": [
      "2\n"
     ]
    }
   ],
   "source": [
    "m = int(input())"
   ]
  },
  {
   "cell_type": "code",
   "execution_count": 47,
   "metadata": {},
   "outputs": [],
   "source": [
    "while(m > 0):\n",
    "    copy_cells = list()\n",
    "    copy_cells.insert(0,0)\n",
    "    copy_cells[1:8] = arr\n",
    "    copy_cells.insert(9,0)\n",
    "    for i in range(len(arr)):\n",
    "        arr[i] = 0 if copy_cells[i]==copy_cells[i+2] else 1\n",
    "    m=m-1    \n",
    "    "
   ]
  },
  {
   "cell_type": "code",
   "execution_count": 36,
   "metadata": {},
   "outputs": [],
   "source": [
    "copy_cells = list()\n",
    "copy_cells.insert(0,0)\n",
    "copy_cells[1:8] = arr\n",
    "copy_cells.insert(9,0)"
   ]
  },
  {
   "cell_type": "code",
   "execution_count": 48,
   "metadata": {},
   "outputs": [
    {
     "data": {
      "text/plain": [
       "[0, 0, 0, 0, 0, 1, 1, 0]"
      ]
     },
     "execution_count": 48,
     "metadata": {},
     "output_type": "execute_result"
    }
   ],
   "source": [
    "arr"
   ]
  },
  {
   "cell_type": "code",
   "execution_count": 37,
   "metadata": {},
   "outputs": [
    {
     "data": {
      "text/plain": [
       "[0, 1, 1, 1, 0, 1, 1, 1, 1, 0]"
      ]
     },
     "execution_count": 37,
     "metadata": {},
     "output_type": "execute_result"
    }
   ],
   "source": [
    "copy_cells"
   ]
  },
  {
   "cell_type": "code",
   "execution_count": null,
   "metadata": {},
   "outputs": [],
   "source": []
  }
 ],
 "metadata": {
  "kernelspec": {
   "display_name": "Python 3",
   "language": "python",
   "name": "python3"
  },
  "language_info": {
   "codemirror_mode": {
    "name": "ipython",
    "version": 3
   },
   "file_extension": ".py",
   "mimetype": "text/x-python",
   "name": "python",
   "nbconvert_exporter": "python",
   "pygments_lexer": "ipython3",
   "version": "3.7.6"
  }
 },
 "nbformat": 4,
 "nbformat_minor": 4
}
